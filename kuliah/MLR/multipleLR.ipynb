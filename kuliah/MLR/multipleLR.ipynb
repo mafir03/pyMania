{
 "cells": [
  {
   "cell_type": "code",
   "execution_count": 13,
   "metadata": {},
   "outputs": [],
   "source": [
    "import matplotlib.pyplot as plt\n",
    "import pandas as pd\n",
    "import pylab as pl\n",
    "import numpy as np\n",
    "import scipy.stats as stats\n",
    "import seaborn as sns\n",
    "from sklearn import linear_model"
   ]
  },
  {
   "cell_type": "code",
   "execution_count": null,
   "metadata": {},
   "outputs": [],
   "source": [
    "# loading data\n",
    "path = 'realtor-data.csv'\n",
    "df = pd.read_csv(path)\n",
    "# taking all necessary variables\n",
    "cdf = df[['bed', 'bath', 'acre_lot', 'house_size', 'price']].copy()"
   ]
  },
  {
   "cell_type": "code",
   "execution_count": null,
   "metadata": {},
   "outputs": [],
   "source": [
    "# inspecting data\n",
    "\n",
    "fig, axs = plt.subplots(nrows=2, ncols=2)\n",
    "\n",
    "fig.subplots_adjust(right=1)\n",
    "fig.subplots_adjust(hspace=0.5, wspace=0.25)\n",
    "# Plot the data on each subplot\n",
    "axs[0][0].scatter(cdf.bed, cdf.price)\n",
    "axs[0][0].set_title('Jumlah Kasur dan Harga Rumah')\n",
    "\n",
    "\n",
    "axs[0][1].scatter(cdf.bath, cdf.price)\n",
    "axs[0][1].set_title('Jumlah Kamar Mandi dan Harga Rumah')\n",
    "\n",
    "\n",
    "axs[1][0].scatter(cdf.acre_lot, cdf.price)\n",
    "axs[1][0].set_title('Luas Tanah dan Harga Rumah')\n",
    "\n",
    "axs[1][1].scatter(cdf.house_size, cdf.price)\n",
    "axs[1][1].set_title('Luas Rumah dan Harga Rumah')\n",
    "plt.show()\n",
    "\n",
    "# show its coorelation coefficient\n",
    "tempCorr = np.asanyarray(cdf.corr(), dtype='float64')\n",
    "\n",
    "plt.imshow(tempCorr, cmap='coolwarm', interpolation='nearest')\n",
    "for i in range(len(tempCorr)):\n",
    "    for j in range(len(tempCorr[0])):\n",
    "        plt.annotate(\"{:.4f}\".format(tempCorr[i][j]), xy=(j,i), ha='center', va='center')\n",
    "plt.xticks([0,1,2,3,4], cdf.columns.values)\n",
    "plt.yticks([0,1,2,3,4], cdf.columns.values)\n",
    "plt.colorbar()\n",
    "plt.show()\n",
    "\n",
    "\n",
    "plt.boxplot(cdf['price'])\n",
    "plt.show()"
   ]
  },
  {
   "cell_type": "code",
   "execution_count": null,
   "metadata": {},
   "outputs": [],
   "source": [
    "# dealing with null values\n",
    "cdf.bed.fillna(cdf.bed.mode()[0], inplace=True)\n",
    "cdf.bath.fillna(cdf.bath.mode()[0], inplace=True)\n",
    "cdf.acre_lot.fillna(cdf.acre_lot.mode()[0], inplace=True)\n",
    "cdf.house_size.fillna(cdf.house_size.mode()[0], inplace=True)\n"
   ]
  },
  {
   "cell_type": "code",
   "execution_count": null,
   "metadata": {},
   "outputs": [],
   "source": [
    "def outlier_treatment(datacolumn):\n",
    "    \"\"\"function to Remove outlier\"\"\"\n",
    "    sorted(datacolumn)\n",
    "    Q1,Q3 = np.percentile(datacolumn,[40,60])\n",
    "    IQR = Q3-Q1\n",
    "    lower_range = Q1 - (1.5*IQR)\n",
    "    upper_range = Q3 + (1.5*IQR)\n",
    "    return lower_range,upper_range\n",
    "\n",
    "l,u = outlier_treatment(cdf['price'])\n",
    "cdf.drop(cdf[(cdf['price'] > u) | (df['price'] < l)].index, inplace=True)\n",
    "print(cdf.shape)"
   ]
  },
  {
   "cell_type": "code",
   "execution_count": null,
   "metadata": {},
   "outputs": [],
   "source": [
    "sns.displot(cdf.price, kind='kde')\n",
    "plt.show()"
   ]
  },
  {
   "cell_type": "code",
   "execution_count": 15,
   "metadata": {},
   "outputs": [],
   "source": [
    "cdf.drop(columns = ['acre_lot'], inplace=True)"
   ]
  },
  {
   "cell_type": "code",
   "execution_count": 18,
   "metadata": {},
   "outputs": [],
   "source": [
    "mask = np.random.rand(len(cdf)) < 0.8\n",
    "train = cdf[mask]\n",
    "test = cdf[~mask]"
   ]
  },
  {
   "cell_type": "code",
   "execution_count": 20,
   "metadata": {},
   "outputs": [
    {
     "name": "stdout",
     "output_type": "stream",
     "text": [
      "[[-7276.84881634 27159.2693475     30.19848013]]\n"
     ]
    }
   ],
   "source": [
    "regr = linear_model.LinearRegression()\n",
    "x = np.asanyarray(train[['bed', 'bath', 'house_size']])\n",
    "y = np.asanyarray(train[['price']])\n",
    "regr.fit(x, y)\n",
    "print(regr.coef_)"
   ]
  },
  {
   "cell_type": "code",
   "execution_count": 22,
   "metadata": {},
   "outputs": [
    {
     "name": "stdout",
     "output_type": "stream",
     "text": [
      "RSE: 15290186380.09\n",
      "Variance score: 0.13\n"
     ]
    },
    {
     "name": "stderr",
     "output_type": "stream",
     "text": [
      "c:\\Users\\ACER\\Desktop\\pyMania\\venv\\lib\\site-packages\\sklearn\\base.py:432: UserWarning: X has feature names, but LinearRegression was fitted without feature names\n",
      "  warnings.warn(\n"
     ]
    }
   ],
   "source": [
    "predicted_values = regr.predict(test[['bed', 'bath', 'house_size']])\n",
    "xT = np.asanyarray(test[['bed', 'bath', 'house_size']])\n",
    "yT = np.asanyarray(test[['price']])\n",
    "print(\"RSE: %.2f\"\n",
    "      % np.mean((predicted_values - yT) ** 2))\n",
    "print('Variance score: %.2f' % regr.score(xT, yT))"
   ]
  }
 ],
 "metadata": {
  "kernelspec": {
   "display_name": "venv",
   "language": "python",
   "name": "python3"
  },
  "language_info": {
   "name": "python",
   "version": "3.10.6"
  },
  "orig_nbformat": 4
 },
 "nbformat": 4,
 "nbformat_minor": 2
}
